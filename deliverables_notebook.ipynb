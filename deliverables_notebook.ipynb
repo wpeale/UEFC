{
 "cells": [
  {
   "cell_type": "code",
   "execution_count": 1,
   "id": "b9eb954b",
   "metadata": {},
   "outputs": [],
   "source": [
    "import GetUEFC\n",
    "\n",
    "from scipy.optimize import minimize_scalar"
   ]
  },
  {
   "cell_type": "code",
   "execution_count": 2,
   "id": "6a536167",
   "metadata": {},
   "outputs": [],
   "source": [
    "db_max_Q1 = 0.08\n",
    "c_r = 0.2\n",
    "c_t = 0.1\n",
    "b = 1.5\n",
    "S = (c_r + c_t) * b # Calculate area as two trapezoids\n",
    "AR = S / b"
   ]
  },
  {
   "cell_type": "code",
   "execution_count": null,
   "id": "0094563e",
   "metadata": {},
   "outputs": [],
   "source": [
    "cl_des_search_increment = 0.05\n",
    "\n",
    "mO3vals   = np.zeros((nAR, nS))  # Objective function (g/s^3)\n",
    "mpayvals  = np.zeros((nAR, nS))  # Payload mass (g)\n",
    "Omegavals = np.zeros((nAR, nS))  # Turn rate (rad/s)\n",
    "Rvals     = np.zeros((nAR, nS))  # Turn radius (m)\n",
    "CLvals    = np.zeros((nAR, nS))  # Lift coefficient (-)\n",
    "Tvals     = np.zeros((nAR, nS))  # Required thrust (N)\n",
    "Tmaxvals  = np.zeros((nAR, nS))  # Maximum thrust (N)\n",
    "dbvals    = np.zeros((nAR, nS))  # Wingtip deflection / wingspan\n",
    "Nvals     = np.zeros((nAR, nS))  # load factor\n"
   ]
  }
 ],
 "metadata": {
  "kernelspec": {
   "display_name": "Python 3 (ipykernel)",
   "language": "python",
   "name": "python3"
  },
  "language_info": {
   "codemirror_mode": {
    "name": "ipython",
    "version": 3
   },
   "file_extension": ".py",
   "mimetype": "text/x-python",
   "name": "python",
   "nbconvert_exporter": "python",
   "pygments_lexer": "ipython3",
   "version": "3.8.10"
  }
 },
 "nbformat": 4,
 "nbformat_minor": 5
}
