{
 "cells": [
  {
   "cell_type": "code",
   "execution_count": null,
   "id": "c3e0b8dc",
   "metadata": {},
   "outputs": [],
   "source": []
  },
  {
   "cell_type": "code",
   "execution_count": 1,
   "id": "80b1476d",
   "metadata": {},
   "outputs": [],
   "source": [
    "import numpy as np\n",
    "from matplotlib import pyplot as plt\n",
    "from IPython    import get_ipython\n",
    "\n",
    "from GetUEFC        import UEFC\n",
    "from opt_mO3        import opt_mO3\n",
    "from report_opt_mO3 import report_opt_mO3"
   ]
  },
  {
   "cell_type": "code",
   "execution_count": 2,
   "id": "490eabba",
   "metadata": {},
   "outputs": [],
   "source": [
    "from time import process_time"
   ]
  },
  {
   "cell_type": "code",
   "execution_count": 4,
   "id": "d24e6df7",
   "metadata": {},
   "outputs": [],
   "source": [
    "def scan_ARS(tau, lam, CLdes, dbmax, n = 20):\n",
    "    \n",
    "    aircraft = UEFC(dbmax = dbmax, CLdes= CLdes, tau = tau, taper = lam)\n",
    "    nAR = n\n",
    "    nS = n\n",
    "    ARarray = np.linspace(5,   15,  nAR)  # Aspect-ratio values\n",
    "    Sarray  = np.linspace(0.1, 0.7, nS)   # Surface-area values (m^2)\n",
    "\n",
    "    ARvals, Svals = np.meshgrid(ARarray, Sarray, indexing=\"ij\")  # 2D.\n",
    "\n",
    "    # initialize 2D output arrays\n",
    "    mO3vals   = np.zeros((nAR, nS))  # Objective function (g/s^3)\n",
    "    mpayvals  = np.zeros((nAR, nS))  # Payload mass (g)\n",
    "    Omegavals = np.zeros((nAR, nS))  # Turn rate (rad/s)\n",
    "    Rvals     = np.zeros((nAR, nS))  # Turn radius (m)\n",
    "    CLvals    = np.zeros((nAR, nS))  # Lift coefficient (-)\n",
    "    Tvals     = np.zeros((nAR, nS))  # Required thrust (N)\n",
    "    Tmaxvals  = np.zeros((nAR, nS))  # Maximum thrust (N)\n",
    "    dbvals    = np.zeros((nAR, nS))  # Wingtip deflection / wingspan\n",
    "    Nvals     = np.zeros((nAR, nS))  # load factor\n",
    "\n",
    "    for iAR,AR in enumerate(ARarray):\n",
    "        for iS,S in enumerate(Sarray):\n",
    "\n",
    "            # Determine max objective\n",
    "            opt_vars, mO3, success = opt_mO3(aircraft, AR, S)\n",
    "\n",
    "            if success:\n",
    "\n",
    "                V = aircraft.flight_velocity(opt_vars, AR, S)\n",
    "\n",
    "                mO3vals[iAR,iS]   = mO3\n",
    "                mpayvals[iAR,iS]  = opt_vars[2]\n",
    "                Omegavals[iAR,iS] = aircraft.turn_rate(opt_vars, AR, S)\n",
    "                Rvals[iAR,iS]     = opt_vars[1]\n",
    "                CLvals[iAR,iS]    = aircraft.lift_coefficient(opt_vars, AR, S)\n",
    "                Tvals[iAR,iS]     = aircraft.required_thrust(opt_vars, AR, S)\n",
    "                Tmaxvals[iAR,iS]  = aircraft.maximum_thrust(V)\n",
    "                dbvals[iAR,iS]    = aircraft.wing_tip_deflection(opt_vars, AR, S)\n",
    "                Nvals[iAR,iS]     = opt_vars[0]\n",
    "\n",
    "        \n",
    "\n",
    "        # Find and print the optimal point (where mO3 is maximized)\n",
    "        mO3_opt           = np.max(mO3vals)\n",
    "        (iAR_opt, iS_opt) = np.unravel_index(mO3vals.argmax(), mO3vals.shape)\n",
    "\n",
    "        ARopt = ARvals[iAR_opt, iS_opt]\n",
    "        Sopt  = Svals[iAR_opt, iS_opt]\n",
    "        print(\"done\")\n",
    "\n",
    "    return mO3_opt, ARopt, Sopt, tau, lam\n",
    "        \n",
    "    \n",
    "def scan_ARS_map(tau, lam, CLdes, dbmax, iteration, Optimal_ARS):\n",
    "    iteration += 1\n",
    "    \"\"\"\n",
    "    tau_space = np.linspace(tau[0], tau[1], num = int((tau[1]-tau[0])/.005/iteration)+1)\n",
    "    lam_space = np.linspace(lam[0], lam[1], num = int((lam[1]-lam[0])/.01/iteration)+1)\n",
    "    \"\"\"\n",
    "\n",
    "    tau_space = np.linspace(tau[0], tau[1], num = 5)\n",
    "    lam_space = np.linspace(lam[0], lam[1], num = 5)\n",
    "    \n",
    "    for tau in tau_space:\n",
    "        for lam in lam_space:\n",
    "            mO3_opt, ARopt, Sopt, tau, lam = (scan_ARS(tau, lam, CLdes, dbmax, 41))\n",
    "            if mO3_opt in Optimal_ARS:\n",
    "                Optimal_ARS[mO3_opt].append([ARopt, Sopt, tau, lam])\n",
    "            else:\n",
    "                Optimal_ARS[mO3_opt] = [[ARopt, Sopt, tau, lam]]\n",
    "    \"\"\"\n",
    "    \n",
    "    def depth(nested_list):\n",
    "        return isinstance(nested_list, list) and max(map(depth, nested_list))+1\n",
    "    \n",
    "    highest_scores = sorted(Optimal_ARS.keys, reverse=True)[:3]\n",
    "    while tau_range < 4:\n",
    "        for i in highest_scores:\n",
    "            values = Optimal_ARS[i]\n",
    "            depth = depth(values)\n",
    "            if depth > 1:\n",
    "                for i in values:\n",
    "            else:\n",
    "                tau_max = max(tau_max, values[0][3])\n",
    "                tau_max = max(tau_max, values[0][3])\n",
    "        tau_max\n",
    "        tau_min\n",
    "        lam_max\n",
    "        lam_min\n",
    "    \"\"\"\n",
    "    \n",
    "    return Optimal_ARS\n",
    "\n",
    "\n",
    "\n",
    "        "
   ]
  },
  {
   "cell_type": "code",
   "execution_count": null,
   "id": "cea15ab5",
   "metadata": {},
   "outputs": [],
   "source": []
  },
  {
   "cell_type": "code",
   "execution_count": null,
   "id": "06767543",
   "metadata": {},
   "outputs": [
    {
     "name": "stderr",
     "output_type": "stream",
     "text": [
      "C:\\Users\\victo\\anaconda3\\lib\\site-packages\\scipy\\optimize\\optimize.py:282: RuntimeWarning: Values in x were outside bounds during a minimize step, clipping to bounds\n",
      "  warnings.warn(\"Values in x were outside bounds during a \"\n"
     ]
    }
   ],
   "source": [
    "t1_start = process_time() \n",
    "Optimal_ARS = {}\n",
    "Optimal_ARS_1 = scan_ARS_map((.08,.12), (.4,1), .8, .1, 0, Optimal_ARS)\n",
    "\n",
    "t1_stop = process_time()\n",
    "   \n",
    "print(\"Elapsed time:\", t1_stop, t1_start) "
   ]
  },
  {
   "cell_type": "code",
   "execution_count": null,
   "id": "d8fb740e",
   "metadata": {},
   "outputs": [],
   "source": [
    "t1_start = process_time() \n",
    "Optimal_ARS = {}\n",
    "Optimal_ARS_2 = scan_ARS_map((.08,.12), (.4,1), .8, .08, 0, Optimal_ARS)\n",
    "\n",
    "t1_stop = process_time()\n",
    "   \n",
    "print(\"Elapsed time:\", t1_stop, t1_start) "
   ]
  },
  {
   "cell_type": "code",
   "execution_count": null,
   "id": "e60fe0cd",
   "metadata": {},
   "outputs": [],
   "source": [
    "t1_start = process_time() \n",
    "Optimal_ARS = {}\n",
    "Optimal_ARS_2 = scan_ARS_map((.08,.12), (.4,1), .75, .1, 0, Optimal_ARS)\n",
    "\n",
    "t1_stop = process_time()\n",
    "   \n",
    "print(\"Elapsed time:\", t1_stop, t1_start) "
   ]
  },
  {
   "cell_type": "code",
   "execution_count": null,
   "id": "101a53c7",
   "metadata": {},
   "outputs": [],
   "source": []
  }
 ],
 "metadata": {
  "kernelspec": {
   "display_name": "Python 3",
   "language": "python",
   "name": "python3"
  },
  "language_info": {
   "codemirror_mode": {
    "name": "ipython",
    "version": 3
   },
   "file_extension": ".py",
   "mimetype": "text/x-python",
   "name": "python",
   "nbconvert_exporter": "python",
   "pygments_lexer": "ipython3",
   "version": "3.8.8"
  }
 },
 "nbformat": 4,
 "nbformat_minor": 5
}
