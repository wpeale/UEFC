{
 "cells": [
  {
   "cell_type": "code",
   "execution_count": null,
   "id": "c3e0b8dc",
   "metadata": {},
   "outputs": [],
   "source": []
  },
  {
   "cell_type": "code",
   "execution_count": 1,
   "id": "80b1476d",
   "metadata": {},
   "outputs": [],
   "source": [
    "import numpy as np\n",
    "from matplotlib import pyplot as plt\n",
    "from IPython    import get_ipython\n",
    "\n",
    "from GetUEFC        import UEFC\n",
    "from opt_mO3        import opt_mO3\n",
    "from report_opt_mO3 import report_opt_mO3"
   ]
  },
  {
   "cell_type": "code",
   "execution_count": 2,
   "id": "490eabba",
   "metadata": {},
   "outputs": [],
   "source": [
    "from time import process_time"
   ]
  },
  {
   "cell_type": "code",
   "execution_count": 3,
   "id": "d24e6df7",
   "metadata": {},
   "outputs": [],
   "source": [
    "def scan_ARS(tau, lam, CLdes, dbmax, n = 20):\n",
    "    t1_start = process_time() \n",
    "    \n",
    "    aircraft = UEFC(dbmax = dbmax, CLdes= CLdes, tau = tau, taper = lam)\n",
    "    nAR = n\n",
    "    nS = n\n",
    "    ARarray = np.linspace(5,   15,  nAR)  # Aspect-ratio values\n",
    "    Sarray  = np.linspace(0.1, 0.7, nS)   # Surface-area values (m^2)\n",
    "\n",
    "    ARvals, Svals = np.meshgrid(ARarray, Sarray, indexing=\"ij\")  # 2D.\n",
    "\n",
    "    # initialize 2D output arrays\n",
    "    mO3vals   = np.zeros((nAR, nS))  # Objective function (g/s^3)\n",
    "    mpayvals  = np.zeros((nAR, nS))  # Payload mass (g)\n",
    "    Omegavals = np.zeros((nAR, nS))  # Turn rate (rad/s)\n",
    "    Rvals     = np.zeros((nAR, nS))  # Turn radius (m)\n",
    "    CLvals    = np.zeros((nAR, nS))  # Lift coefficient (-)\n",
    "    Tvals     = np.zeros((nAR, nS))  # Required thrust (N)\n",
    "    Tmaxvals  = np.zeros((nAR, nS))  # Maximum thrust (N)\n",
    "    dbvals    = np.zeros((nAR, nS))  # Wingtip deflection / wingspan\n",
    "    Nvals     = np.zeros((nAR, nS))  # load factor\n",
    "\n",
    "    for iAR,AR in enumerate(ARarray):\n",
    "        for iS,S in enumerate(Sarray):\n",
    "\n",
    "            # Determine max objective\n",
    "            opt_vars, mO3, success = opt_mO3(aircraft, AR, S)\n",
    "\n",
    "            if success:\n",
    "\n",
    "                V = aircraft.flight_velocity(opt_vars, AR, S)\n",
    "\n",
    "                mO3vals[iAR,iS]   = mO3\n",
    "                mpayvals[iAR,iS]  = opt_vars[2]\n",
    "                Omegavals[iAR,iS] = aircraft.turn_rate(opt_vars, AR, S)\n",
    "                Rvals[iAR,iS]     = opt_vars[1]\n",
    "                CLvals[iAR,iS]    = aircraft.lift_coefficient(opt_vars, AR, S)\n",
    "                Tvals[iAR,iS]     = aircraft.required_thrust(opt_vars, AR, S)\n",
    "                Tmaxvals[iAR,iS]  = aircraft.maximum_thrust(V)\n",
    "                dbvals[iAR,iS]    = aircraft.wing_tip_deflection(opt_vars, AR, S)\n",
    "                Nvals[iAR,iS]     = opt_vars[0]\n",
    "\n",
    "        \n",
    "\n",
    "        # Find and print the optimal point (where mO3 is maximized)\n",
    "        mO3_opt           = np.max(mO3vals)\n",
    "        (iAR_opt, iS_opt) = np.unravel_index(mO3vals.argmax(), mO3vals.shape)\n",
    "\n",
    "        ARopt = ARvals[iAR_opt, iS_opt]\n",
    "        Sopt  = Svals[iAR_opt, iS_opt]\n",
    "    t1_stop = process_time()\n",
    "    print(\"Elapsed time:\", t1_stop, t1_start) \n",
    "    return mO3_opt, ARopt, Sopt, tau, lam\n",
    "        \n",
    "    \n",
    "def scan_ARS_map(tau, lam, CLdes, dbmax, iteration, Optimal_ARS):\n",
    "    iteration += 1\n",
    "    \"\"\"\n",
    "    tau_space = np.linspace(tau[0], tau[1], num = int((tau[1]-tau[0])/.005/iteration)+1)\n",
    "    lam_space = np.linspace(lam[0], lam[1], num = int((lam[1]-lam[0])/.01/iteration)+1)\n",
    "    \"\"\"\n",
    "\n",
    "    tau_space = np.linspace(tau[0], tau[1], num = 5)\n",
    "    lam_space = np.linspace(lam[0], lam[1], num = 5)\n",
    "    \n",
    "    for tau in tau_space:\n",
    "        for lam in lam_space:\n",
    "            mO3_opt, ARopt, Sopt, tau, lam = (scan_ARS(tau, lam, CLdes, dbmax, 20))\n",
    "            if mO3_opt in Optimal_ARS:\n",
    "                Optimal_ARS[mO3_opt].append([ARopt, Sopt, tau, lam])\n",
    "            else:\n",
    "                Optimal_ARS[mO3_opt] = [[ARopt, Sopt, tau, lam]]\n",
    "    \"\"\"\n",
    "    \n",
    "    def depth(nested_list):\n",
    "        return isinstance(nested_list, list) and max(map(depth, nested_list))+1\n",
    "    \n",
    "    highest_scores = sorted(Optimal_ARS.keys, reverse=True)[:3]\n",
    "    while tau_range < 4:\n",
    "        for i in highest_scores:\n",
    "            values = Optimal_ARS[i]\n",
    "            depth = depth(values)\n",
    "            if depth > 1:\n",
    "                for i in values:\n",
    "            else:\n",
    "                tau_max = max(tau_max, values[0][3])\n",
    "                tau_max = max(tau_max, values[0][3])\n",
    "        tau_max\n",
    "        tau_min\n",
    "        lam_max\n",
    "        lam_min\n",
    "    \"\"\"\n",
    "    \n",
    "    return Optimal_ARS\n",
    "\n",
    "\n",
    "\n",
    "        "
   ]
  },
  {
   "cell_type": "code",
   "execution_count": null,
   "id": "cea15ab5",
   "metadata": {},
   "outputs": [],
   "source": []
  },
  {
   "cell_type": "code",
   "execution_count": 4,
   "id": "06767543",
   "metadata": {},
   "outputs": [
    {
     "name": "stderr",
     "output_type": "stream",
     "text": [
      "C:\\Users\\victo\\anaconda3\\lib\\site-packages\\scipy\\optimize\\optimize.py:282: RuntimeWarning: Values in x were outside bounds during a minimize step, clipping to bounds\n",
      "  warnings.warn(\"Values in x were outside bounds during a \"\n"
     ]
    },
    {
     "name": "stdout",
     "output_type": "stream",
     "text": [
      "Elapsed time: 10.609375 1.09375\n",
      "Elapsed time: 21.546875 10.609375\n",
      "Elapsed time: 31.328125 21.546875\n",
      "Elapsed time: 42.25 31.328125\n",
      "Elapsed time: 52.671875 42.25\n",
      "Elapsed time: 62.53125 52.671875\n",
      "Elapsed time: 72.484375 62.53125\n",
      "Elapsed time: 83.390625 72.484375\n",
      "Elapsed time: 94.34375 83.390625\n",
      "Elapsed time: 105.4375 94.34375\n",
      "Elapsed time: 114.96875 105.4375\n",
      "Elapsed time: 124.953125 114.96875\n",
      "Elapsed time: 134.625 124.953125\n",
      "Elapsed time: 144.9375 134.625\n",
      "Elapsed time: 155.484375 144.9375\n",
      "Elapsed time: 164.46875 155.484375\n",
      "Elapsed time: 174.28125 164.46875\n",
      "Elapsed time: 185.375 174.28125\n",
      "Elapsed time: 195.484375 185.375\n",
      "Elapsed time: 206.546875 195.484375\n",
      "Elapsed time: 214.859375 206.546875\n",
      "Elapsed time: 224.03125 214.859375\n",
      "Elapsed time: 235.34375 224.03125\n",
      "Elapsed time: 246.03125 235.34375\n",
      "Elapsed time: 256.984375 246.03125\n",
      "Elapsed time: 256.984375 1.09375\n"
     ]
    }
   ],
   "source": [
    "t1_start = process_time() \n",
    "Optimal_ARS = {}\n",
    "Optimal_ARS_1 = scan_ARS_map((.08,.12), (.4,1), .8, .1, 0, Optimal_ARS)\n",
    "\n",
    "t1_stop = process_time()\n",
    "   \n",
    "print(\"Elapsed time:\", t1_stop, t1_start) "
   ]
  },
  {
   "cell_type": "code",
   "execution_count": 5,
   "id": "d8fb740e",
   "metadata": {},
   "outputs": [
    {
     "name": "stdout",
     "output_type": "stream",
     "text": [
      "Elapsed time: 266.828125 257.015625\n",
      "Elapsed time: 276.671875 266.828125\n",
      "Elapsed time: 286.453125 276.671875\n",
      "Elapsed time: 297.171875 286.453125\n",
      "Elapsed time: 308.9375 297.171875\n",
      "Elapsed time: 318.484375 308.9375\n",
      "Elapsed time: 328.921875 318.484375\n",
      "Elapsed time: 339.265625 328.921875\n",
      "Elapsed time: 349.921875 339.265625\n",
      "Elapsed time: 360.328125 349.921875\n",
      "Elapsed time: 370.0625 360.328125\n",
      "Elapsed time: 380.109375 370.0625\n",
      "Elapsed time: 391.171875 380.109375\n",
      "Elapsed time: 402.578125 391.171875\n",
      "Elapsed time: 412.8125 402.578125\n",
      "Elapsed time: 422.109375 412.8125\n",
      "Elapsed time: 432.578125 422.109375\n",
      "Elapsed time: 443.6875 432.578125\n",
      "Elapsed time: 454.296875 443.6875\n",
      "Elapsed time: 465.125 454.296875\n",
      "Elapsed time: 473.421875 465.125\n",
      "Elapsed time: 482.828125 473.421875\n",
      "Elapsed time: 493.390625 482.828125\n",
      "Elapsed time: 503.328125 493.390625\n",
      "Elapsed time: 514.578125 503.328125\n",
      "Elapsed time: 514.578125 257.0\n"
     ]
    }
   ],
   "source": [
    "t1_start = process_time() \n",
    "Optimal_ARS = {}\n",
    "Optimal_ARS_2 = scan_ARS_map((.08,.12), (.4,1), .8, .08, 0, Optimal_ARS)\n",
    "\n",
    "t1_stop = process_time()\n",
    "   \n",
    "print(\"Elapsed time:\", t1_stop, t1_start) "
   ]
  },
  {
   "cell_type": "code",
   "execution_count": 6,
   "id": "e60fe0cd",
   "metadata": {},
   "outputs": [
    {
     "name": "stdout",
     "output_type": "stream",
     "text": [
      "Elapsed time: 524.390625 514.578125\n",
      "Elapsed time: 534.296875 524.390625\n",
      "Elapsed time: 544.5625 534.296875\n",
      "Elapsed time: 554.71875 544.5625\n",
      "Elapsed time: 565.140625 554.71875\n",
      "Elapsed time: 575.234375 565.140625\n",
      "Elapsed time: 585.046875 575.234375\n",
      "Elapsed time: 595.15625 585.046875\n",
      "Elapsed time: 605.09375 595.15625\n",
      "Elapsed time: 615.40625 605.09375\n",
      "Elapsed time: 625.40625 615.40625\n",
      "Elapsed time: 636.40625 625.40625\n",
      "Elapsed time: 647.1875 636.40625\n",
      "Elapsed time: 657.859375 647.1875\n",
      "Elapsed time: 668.109375 657.859375\n",
      "Elapsed time: 677.421875 668.109375\n",
      "Elapsed time: 687.640625 677.421875\n",
      "Elapsed time: 697.921875 687.640625\n",
      "Elapsed time: 708.1875 697.921875\n",
      "Elapsed time: 718.875 708.1875\n",
      "Elapsed time: 728.25 718.875\n",
      "Elapsed time: 737.609375 728.25\n",
      "Elapsed time: 747.828125 737.609375\n",
      "Elapsed time: 758.4375 747.828125\n",
      "Elapsed time: 770.296875 758.4375\n",
      "Elapsed time: 770.296875 514.578125\n"
     ]
    }
   ],
   "source": [
    "t1_start = process_time() \n",
    "Optimal_ARS = {}\n",
    "Optimal_ARS_2 = scan_ARS_map((.08,.12), (.4,1), .75, .1, 0, Optimal_ARS)\n",
    "\n",
    "t1_stop = process_time()\n",
    "   \n",
    "print(\"Elapsed time:\", t1_stop, t1_start) "
   ]
  },
  {
   "cell_type": "code",
   "execution_count": 7,
   "id": "101a53c7",
   "metadata": {},
   "outputs": [
    {
     "name": "stdout",
     "output_type": "stream",
     "text": [
      "{93.03962897081514: [[9.210526315789473, 0.38421052631578945, 0.08, 0.4]], 78.6340729175184: [[8.157894736842106, 0.4157894736842105, 0.08, 0.55]], 63.3791065163125: [[7.105263157894736, 0.38421052631578945, 0.08, 0.7]], 46.984115275488065: [[6.052631578947368, 0.32105263157894737, 0.08, 0.85]], 33.58014475003614: [[5.526315789473684, 0.3526315789473684, 0.08, 1.0]], 85.28724825191935: [[10.263157894736842, 0.4157894736842105, 0.09, 0.4]], 73.39803487847708: [[8.68421052631579, 0.38421052631578945, 0.09, 0.55]], 58.6470480365796: [[7.631578947368421, 0.38421052631578945, 0.09, 0.7]], 45.34294744968535: [[6.578947368421053, 0.32105263157894737, 0.09, 0.85]], 33.39812239575855: [[6.052631578947368, 0.3526315789473684, 0.09, 1.0]], 76.57965795789497: [[10.789473684210526, 0.38421052631578945, 0.1, 0.4]], 66.89953093623201: [[9.210526315789473, 0.3526315789473684, 0.1, 0.55]], 55.97781299561023: [[8.157894736842106, 0.3526315789473684, 0.1, 0.7]], 42.97054207893241: [[7.105263157894736, 0.32105263157894737, 0.1, 0.85]], 32.2992543068677: [[6.578947368421053, 0.3526315789473684, 0.1, 1.0]], 68.1537639532084: [[11.842105263157894, 0.38421052631578945, 0.11, 0.4]], 60.450270213284085: [[10.263157894736842, 0.38421052631578945, 0.11, 0.55]], 50.403881766505755: [[8.68421052631579, 0.3526315789473684, 0.11, 0.7]], 40.09576041147206: [[7.631578947368421, 0.32105263157894737, 0.11, 0.85]], 30.52833771399395: [[7.105263157894736, 0.3526315789473684, 0.11, 1.0]], 61.43717807731945: [[12.368421052631579, 0.3526315789473684, 0.12, 0.4]], 56.36721129441406: [[10.789473684210526, 0.3526315789473684, 0.12, 0.55]], 46.69715394872787: [[9.736842105263158, 0.38421052631578945, 0.12, 0.7]], 36.898771866769664: [[8.157894736842106, 0.32105263157894737, 0.12, 0.85]], 28.288958021923715: [[7.631578947368421, 0.3526315789473684, 0.12, 1.0]]}\n"
     ]
    }
   ],
   "source": [
    "print(Optimal_ARS_1)"
   ]
  },
  {
   "cell_type": "code",
   "execution_count": 10,
   "id": "b6de06f7",
   "metadata": {},
   "outputs": [
    {
     "name": "stdout",
     "output_type": "stream",
     "text": [
      "[93.03962897081514, 85.28724825191935, 78.6340729175184]\n"
     ]
    }
   ],
   "source": [
    "highest_scores = sorted(Optimal_ARS_1.keys(), reverse=True)[:3]\n",
    "print(highest_scores)"
   ]
  },
  {
   "cell_type": "code",
   "execution_count": 12,
   "id": "6268e5de",
   "metadata": {},
   "outputs": [
    {
     "data": {
      "text/plain": [
       "[[9.210526315789473, 0.38421052631578945, 0.08, 0.4]]"
      ]
     },
     "execution_count": 12,
     "metadata": {},
     "output_type": "execute_result"
    }
   ],
   "source": [
    "Optimal_ARS_1[93.03962897081514]\n",
    "#ARopt, Sopt, tau, lam"
   ]
  },
  {
   "cell_type": "code",
   "execution_count": null,
   "id": "d5359b73",
   "metadata": {},
   "outputs": [],
   "source": []
  }
 ],
 "metadata": {
  "kernelspec": {
   "display_name": "Python 3",
   "language": "python",
   "name": "python3"
  },
  "language_info": {
   "codemirror_mode": {
    "name": "ipython",
    "version": 3
   },
   "file_extension": ".py",
   "mimetype": "text/x-python",
   "name": "python",
   "nbconvert_exporter": "python",
   "pygments_lexer": "ipython3",
   "version": "3.8.8"
  }
 },
 "nbformat": 4,
 "nbformat_minor": 5
}
